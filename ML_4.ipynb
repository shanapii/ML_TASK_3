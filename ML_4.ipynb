{
 "cells": [
  {
   "cell_type": "code",
   "execution_count": null,
   "id": "e7e97b6b-f89b-454c-9430-626a36f0c5b7",
   "metadata": {},
   "outputs": [],
   "source": [
    "#Understand the Problem Statement\n",
    "#The objective is to model the price of cars using various independent variables to help the company understand pricing dynamics in the American market."
   ]
  },
  {
   "cell_type": "code",
   "execution_count": 1,
   "id": "40c2bb7d-2334-4733-b8fa-926e5ed69937",
   "metadata": {},
   "outputs": [],
   "source": [
    "import pandas as pd\n",
    "import numpy as np\n",
    "import matplotlib.pyplot as plt\n",
    "import seaborn as sns\n",
    "from sklearn.model_selection import train_test_split\n",
    "from sklearn.preprocessing import LabelEncoder, StandardScaler\n",
    "from sklearn.linear_model import LinearRegression\n",
    "from sklearn.tree import DecisionTreeRegressor\n",
    "from sklearn.ensemble import RandomForestRegressor, GradientBoostingRegressor\n",
    "from sklearn.svm import SVR\n",
    "from sklearn.metrics import mean_squared_error, r2_score"
   ]
  },
  {
   "cell_type": "code",
   "execution_count": 2,
   "id": "24708011-feb6-430e-8282-f15f8262e781",
   "metadata": {},
   "outputs": [],
   "source": [
    "# Load the dataset\n",
    "data = pd.read_csv(\"C:\\\\Users\\\\HP\\\\OneDrive\\\\POWER BI\\\\CarPrice_Assignment.csv\")"
   ]
  },
  {
   "cell_type": "code",
   "execution_count": null,
   "id": "318e773e-3283-400b-b2bf-f480e3331675",
   "metadata": {},
   "outputs": [],
   "source": [
    "#CHEK THE DATA"
   ]
  },
  {
   "cell_type": "code",
   "execution_count": 3,
   "id": "e0b2305d-c3a2-4431-8a1d-69def9dffff6",
   "metadata": {},
   "outputs": [
    {
     "name": "stdout",
     "output_type": "stream",
     "text": [
      "<class 'pandas.core.frame.DataFrame'>\n",
      "RangeIndex: 205 entries, 0 to 204\n",
      "Data columns (total 26 columns):\n",
      " #   Column            Non-Null Count  Dtype  \n",
      "---  ------            --------------  -----  \n",
      " 0   car_ID            205 non-null    int64  \n",
      " 1   symboling         205 non-null    int64  \n",
      " 2   CarName           205 non-null    object \n",
      " 3   fueltype          205 non-null    object \n",
      " 4   aspiration        205 non-null    object \n",
      " 5   doornumber        205 non-null    object \n",
      " 6   carbody           205 non-null    object \n",
      " 7   drivewheel        205 non-null    object \n",
      " 8   enginelocation    205 non-null    object \n",
      " 9   wheelbase         205 non-null    float64\n",
      " 10  carlength         205 non-null    float64\n",
      " 11  carwidth          205 non-null    float64\n",
      " 12  carheight         205 non-null    float64\n",
      " 13  curbweight        205 non-null    int64  \n",
      " 14  enginetype        205 non-null    object \n",
      " 15  cylindernumber    205 non-null    object \n",
      " 16  enginesize        205 non-null    int64  \n",
      " 17  fuelsystem        205 non-null    object \n",
      " 18  boreratio         205 non-null    float64\n",
      " 19  stroke            205 non-null    float64\n",
      " 20  compressionratio  205 non-null    float64\n",
      " 21  horsepower        205 non-null    int64  \n",
      " 22  peakrpm           205 non-null    int64  \n",
      " 23  citympg           205 non-null    int64  \n",
      " 24  highwaympg        205 non-null    int64  \n",
      " 25  price             205 non-null    float64\n",
      "dtypes: float64(8), int64(8), object(10)\n",
      "memory usage: 41.8+ KB\n",
      "None\n",
      "           car_ID   symboling   wheelbase   carlength    carwidth   carheight  \\\n",
      "count  205.000000  205.000000  205.000000  205.000000  205.000000  205.000000   \n",
      "mean   103.000000    0.834146   98.756585  174.049268   65.907805   53.724878   \n",
      "std     59.322565    1.245307    6.021776   12.337289    2.145204    2.443522   \n",
      "min      1.000000   -2.000000   86.600000  141.100000   60.300000   47.800000   \n",
      "25%     52.000000    0.000000   94.500000  166.300000   64.100000   52.000000   \n",
      "50%    103.000000    1.000000   97.000000  173.200000   65.500000   54.100000   \n",
      "75%    154.000000    2.000000  102.400000  183.100000   66.900000   55.500000   \n",
      "max    205.000000    3.000000  120.900000  208.100000   72.300000   59.800000   \n",
      "\n",
      "        curbweight  enginesize   boreratio      stroke  compressionratio  \\\n",
      "count   205.000000  205.000000  205.000000  205.000000        205.000000   \n",
      "mean   2555.565854  126.907317    3.329756    3.255415         10.142537   \n",
      "std     520.680204   41.642693    0.270844    0.313597          3.972040   \n",
      "min    1488.000000   61.000000    2.540000    2.070000          7.000000   \n",
      "25%    2145.000000   97.000000    3.150000    3.110000          8.600000   \n",
      "50%    2414.000000  120.000000    3.310000    3.290000          9.000000   \n",
      "75%    2935.000000  141.000000    3.580000    3.410000          9.400000   \n",
      "max    4066.000000  326.000000    3.940000    4.170000         23.000000   \n",
      "\n",
      "       horsepower      peakrpm     citympg  highwaympg         price  \n",
      "count  205.000000   205.000000  205.000000  205.000000    205.000000  \n",
      "mean   104.117073  5125.121951   25.219512   30.751220  13276.710571  \n",
      "std     39.544167   476.985643    6.542142    6.886443   7988.852332  \n",
      "min     48.000000  4150.000000   13.000000   16.000000   5118.000000  \n",
      "25%     70.000000  4800.000000   19.000000   25.000000   7788.000000  \n",
      "50%     95.000000  5200.000000   24.000000   30.000000  10295.000000  \n",
      "75%    116.000000  5500.000000   30.000000   34.000000  16503.000000  \n",
      "max    288.000000  6600.000000   49.000000   54.000000  45400.000000  \n",
      "car_ID              0\n",
      "symboling           0\n",
      "CarName             0\n",
      "fueltype            0\n",
      "aspiration          0\n",
      "doornumber          0\n",
      "carbody             0\n",
      "drivewheel          0\n",
      "enginelocation      0\n",
      "wheelbase           0\n",
      "carlength           0\n",
      "carwidth            0\n",
      "carheight           0\n",
      "curbweight          0\n",
      "enginetype          0\n",
      "cylindernumber      0\n",
      "enginesize          0\n",
      "fuelsystem          0\n",
      "boreratio           0\n",
      "stroke              0\n",
      "compressionratio    0\n",
      "horsepower          0\n",
      "peakrpm             0\n",
      "citympg             0\n",
      "highwaympg          0\n",
      "price               0\n",
      "dtype: int64\n",
      "0\n",
      "Column: car_ID, Unique Values: 205\n",
      "Column: symboling, Unique Values: 6\n",
      "Column: CarName, Unique Values: 147\n",
      "Column: fueltype, Unique Values: 2\n",
      "Column: aspiration, Unique Values: 2\n",
      "Column: doornumber, Unique Values: 2\n",
      "Column: carbody, Unique Values: 5\n",
      "Column: drivewheel, Unique Values: 3\n",
      "Column: enginelocation, Unique Values: 2\n",
      "Column: wheelbase, Unique Values: 53\n",
      "Column: carlength, Unique Values: 75\n",
      "Column: carwidth, Unique Values: 44\n",
      "Column: carheight, Unique Values: 49\n",
      "Column: curbweight, Unique Values: 171\n",
      "Column: enginetype, Unique Values: 7\n",
      "Column: cylindernumber, Unique Values: 7\n",
      "Column: enginesize, Unique Values: 44\n",
      "Column: fuelsystem, Unique Values: 8\n",
      "Column: boreratio, Unique Values: 38\n",
      "Column: stroke, Unique Values: 37\n",
      "Column: compressionratio, Unique Values: 32\n",
      "Column: horsepower, Unique Values: 59\n",
      "Column: peakrpm, Unique Values: 23\n",
      "Column: citympg, Unique Values: 29\n",
      "Column: highwaympg, Unique Values: 30\n",
      "Column: price, Unique Values: 189\n"
     ]
    }
   ],
   "source": [
    "# Basic info about the dataset\n",
    "print(data.info())\n",
    "print(data.describe())\n",
    "\n",
    "# Check for missing values\n",
    "print(data.isnull().sum())\n",
    "\n",
    "# Check for duplicates\n",
    "print(data.duplicated().sum())\n",
    "\n",
    "# Unique values in each column\n",
    "for column in data.columns:\n",
    "    print(f'Column: {column}, Unique Values: {data[column].nunique()}')\n"
   ]
  },
  {
   "cell_type": "code",
   "execution_count": null,
   "id": "243f31a1-2cee-4ba8-81c0-1d0fa4ded397",
   "metadata": {},
   "outputs": [],
   "source": [
    "#DATA PRE-PROCESSING"
   ]
  },
  {
   "cell_type": "code",
   "execution_count": null,
   "id": "e7bebe99-cd15-4396-a409-f0f54b4b15dc",
   "metadata": {},
   "outputs": [],
   "source": [
    "# Drop car ID column\n",
    "data.drop(columns=['car_ID'], inplace=True)\n",
    "\n",
    "# Extract company name from car name and add to dataframe|\n",
    "data['company'] = data['carName'].apply(lambda x: x.split()[0])\n",
    "data.drop(columns=['carName'], inplace=True)\n",
    "\n",
    "# Fix spelling mistakes in company names (example)\n",
    "data['company'] = data['company'].replace({'Chrysler': 'Chrysler', 'Chevy': 'Chevrolet'})  # Adjust as necessary\n",
    "\n",
    "# Label encoding for categorical variables\n",
    "categorical_cols = data.select_dtypes(include=['object']).columns\n",
    "label_encoder = LabelEncoder()\n",
    "for col in categorical_cols:\n",
    "    data[col] = label_encoder.fit_transform(data[col])\n",
    "\n",
    "# Outlier detection and removal\n",
    "for col in ['price', 'mileage', 'engine_size']:  # Adjust with relevant numeric columns\n",
    "    Q1 = data[col].quantile(0.25)\n",
    "    Q3 = data[col].quantile(0.75)\n",
    "    IQR = Q3 - Q1\n",
    "    data = data[(data[col] >= (Q1 - 1.5 * IQR)) & (data[col] <= (Q3 + 1.5 * IQR))]"
   ]
  },
  {
   "cell_type": "code",
   "execution_count": null,
   "id": "775387e9-e942-4e78-942f-4f23d27714f9",
   "metadata": {},
   "outputs": [],
   "source": [
    "#FEACHER SELECTION"
   ]
  },
  {
   "cell_type": "code",
   "execution_count": null,
   "id": "a8a7ae22-4c71-4121-9748-e89826e0c666",
   "metadata": {},
   "outputs": [],
   "source": [
    "# Correlation matrix\n",
    "correlation_matrix = data.corr()\n",
    "plt.figure(figsize=(12, 8))\n",
    "sns.heatmap(correlation_matrix, annot=True, cmap='coolwarm')\n",
    "plt.show()\n",
    "\n",
    "# Remove multicollinearity (remove features with high correlation, e.g., > 0.85)\n",
    "# Identify highly correlated features\n",
    "high_correlation = set()\n",
    "threshold = 0.85\n",
    "for i in range(len(correlation_matrix.columns)):\n",
    "    for j in range(i):\n",
    "        if abs(correlation_matrix.iloc[i, j]) > threshold:\n",
    "            colname = correlation_matrix.columns[i]\n",
    "            high_correlation.add(colname)\n",
    "\n",
    "data.drop(columns=high_correlation, inplace=True)\n"
   ]
  },
  {
   "cell_type": "code",
   "execution_count": null,
   "id": "99a9a66f-24ab-420f-af8c-3bd5edd14d6c",
   "metadata": {},
   "outputs": [],
   "source": [
    "#DATA SPLITING"
   ]
  },
  {
   "cell_type": "code",
   "execution_count": null,
   "id": "649c1e33-d150-4fb0-9a6a-964cf5d4ee34",
   "metadata": {},
   "outputs": [],
   "source": [
    "# Define features and target variable\n",
    "X = data.drop(columns=['price'])  # Replace 'price' with your target variable\n",
    "y = data['price']\n",
    "\n",
    "# Split the dataset into training and testing sets\n",
    "X_train, X_test, y_train, y_test = train_test_split(X, y, test_size=0.2, random_state=42)\n"
   ]
  },
  {
   "cell_type": "code",
   "execution_count": null,
   "id": "e4b7469c-a60a-4a5d-8204-7ab09e3ba545",
   "metadata": {},
   "outputs": [],
   "source": [
    "#MODEL SELECTION AND IMPLIMENTATION"
   ]
  },
  {
   "cell_type": "code",
   "execution_count": 8,
   "id": "fb0cd883-b2f1-4f95-a466-1419da013d57",
   "metadata": {},
   "outputs": [
    {
     "ename": "NameError",
     "evalue": "name 'X_train' is not defined",
     "output_type": "error",
     "traceback": [
      "\u001b[1;31m---------------------------------------------------------------------------\u001b[0m",
      "\u001b[1;31mNameError\u001b[0m                                 Traceback (most recent call last)",
      "Cell \u001b[1;32mIn[8], line 13\u001b[0m\n\u001b[0;32m     11\u001b[0m results \u001b[38;5;241m=\u001b[39m {}\n\u001b[0;32m     12\u001b[0m \u001b[38;5;28;01mfor\u001b[39;00m model_name, model \u001b[38;5;129;01min\u001b[39;00m models\u001b[38;5;241m.\u001b[39mitems():\n\u001b[1;32m---> 13\u001b[0m     model\u001b[38;5;241m.\u001b[39mfit(\u001b[43mX_train\u001b[49m, y_train)\n\u001b[0;32m     14\u001b[0m     y_pred \u001b[38;5;241m=\u001b[39m model\u001b[38;5;241m.\u001b[39mpredict(X_test)\n\u001b[0;32m     15\u001b[0m     mse \u001b[38;5;241m=\u001b[39m mean_squared_error(y_test, y_pred)\n",
      "\u001b[1;31mNameError\u001b[0m: name 'X_train' is not defined"
     ]
    }
   ],
   "source": [
    "# Define models\n",
    "models = {\n",
    "    'Linear Regression': LinearRegression(),\n",
    "    'Decision Tree Regressor': DecisionTreeRegressor(),\n",
    "    'Random Forest Regressor': RandomForestRegressor(),\n",
    "    'Gradient Boosting Regressor': GradientBoostingRegressor(),\n",
    "    'Support Vector Regressor': SVR()\n",
    "}\n",
    "\n",
    "# Train and evaluate models\n",
    "results = {}\n",
    "for model_name, model in models.items():\n",
    "    model.fit(X_train, y_train)\n",
    "    y_pred = model.predict(X_test)\n",
    "    mse = mean_squared_error(y_test, y_pred)\n",
    "    r2 = r2_score(y_test, y_pred)\n",
    "    results[model_name] = {'MSE': mse, 'R2': r2}\n",
    "\n",
    "# Display results\n",
    "results_df = pd.DataFrame(results).T\n",
    "print(results_df)\n"
   ]
  },
  {
   "cell_type": "code",
   "execution_count": null,
   "id": "06a54355-c22e-43b1-a888-4e7b2a45e341",
   "metadata": {},
   "outputs": [],
   "source": [
    "#Model Evaluation\n",
    "#Review Mean Squared Error (MSE) and R² scores to determine which model performs best.\n",
    "#Consider plotting predicted vs actual prices for the best model."
   ]
  },
  {
   "cell_type": "code",
   "execution_count": 7,
   "id": "e57681a0-e9ac-4868-88d3-b92e91ff3044",
   "metadata": {},
   "outputs": [
    {
     "ename": "NameError",
     "evalue": "name 'models' is not defined",
     "output_type": "error",
     "traceback": [
      "\u001b[1;31m---------------------------------------------------------------------------\u001b[0m",
      "\u001b[1;31mNameError\u001b[0m                                 Traceback (most recent call last)",
      "Cell \u001b[1;32mIn[7], line 2\u001b[0m\n\u001b[0;32m      1\u001b[0m \u001b[38;5;66;03m# Plotting predicted vs actual for the best model (e.g., Random Forest)\u001b[39;00m\n\u001b[1;32m----> 2\u001b[0m best_model \u001b[38;5;241m=\u001b[39m \u001b[43mmodels\u001b[49m[\u001b[38;5;124m'\u001b[39m\u001b[38;5;124mRandom Forest Regressor\u001b[39m\u001b[38;5;124m'\u001b[39m]\n\u001b[0;32m      3\u001b[0m y_pred_best \u001b[38;5;241m=\u001b[39m best_model\u001b[38;5;241m.\u001b[39mpredict(X_test)\n\u001b[0;32m      5\u001b[0m plt\u001b[38;5;241m.\u001b[39mfigure(figsize\u001b[38;5;241m=\u001b[39m(\u001b[38;5;241m10\u001b[39m, \u001b[38;5;241m6\u001b[39m))\n",
      "\u001b[1;31mNameError\u001b[0m: name 'models' is not defined"
     ]
    }
   ],
   "source": [
    "# Plotting predicted vs actual for the best model (e.g., Random Forest)\n",
    "best_model = models['Random Forest Regressor']\n",
    "y_pred_best = best_model.predict(X_test)\n",
    "\n",
    "plt.figure(figsize=(10, 6))\n",
    "plt.scatter(y_test, y_pred_best)\n",
    "plt.xlabel('Actual Prices')\n",
    "plt.ylabel('Predicted Prices')\n",
    "plt.title('Actual vs Predicted Prices')\n",
    "plt.plot([min(y_test), max(y_test)], [min(y_test), max(y_test)], color='red')  # Diagonal line\n",
    "plt.show()\n"
   ]
  },
  {
   "cell_type": "code",
   "execution_count": null,
   "id": "ccc818cc-3b0b-4424-8f8a-7631042824eb",
   "metadata": {},
   "outputs": [],
   "source": []
  }
 ],
 "metadata": {
  "kernelspec": {
   "display_name": "Python 3 (ipykernel)",
   "language": "python",
   "name": "python3"
  },
  "language_info": {
   "codemirror_mode": {
    "name": "ipython",
    "version": 3
   },
   "file_extension": ".py",
   "mimetype": "text/x-python",
   "name": "python",
   "nbconvert_exporter": "python",
   "pygments_lexer": "ipython3",
   "version": "3.12.0"
  }
 },
 "nbformat": 4,
 "nbformat_minor": 5
}
