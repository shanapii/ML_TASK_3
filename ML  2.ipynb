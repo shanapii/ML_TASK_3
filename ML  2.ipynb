{
 "cells": [
  {
   "cell_type": "markdown",
   "id": "226c6116-815a-4526-b744-2c87a6d631e7",
   "metadata": {},
   "source": [
    "### Suppose a child psychologist claims that the average time working mothers spend talking to their children is at least 11 minutes per day. \n",
    "### You conduct a random sample of 1000 working mothers and find they spend an average of 11.5 minutes per day talking with their children.\n",
    "### Assume prior research suggests the population standard deviation is 2.3 minutes. Conduct a test with a level of significance of alpha = 0.05."
   ]
  },
  {
   "cell_type": "code",
   "execution_count": 2,
   "id": "adc4d433-f037-4880-bcf0-557dfa7e1e5c",
   "metadata": {},
   "outputs": [],
   "source": [
    "#Claim: The average time working mothers spend talking to their children is at least 11 minutes per day."
   ]
  },
  {
   "cell_type": "code",
   "execution_count": 4,
   "id": "910b24bc-8200-4f37-9c66-532a75c2333c",
   "metadata": {},
   "outputs": [],
   "source": [
    "import scipy.stats as stats\n",
    "import math"
   ]
  },
  {
   "cell_type": "code",
   "execution_count": 10,
   "id": "2e4691a0-8c60-43ed-9701-3a8ea9fa1015",
   "metadata": {},
   "outputs": [],
   "source": [
    "sample_mean = 11.5\n",
    "population_mean = 11\n",
    "population_std = 2.3\n",
    "sample_size = 1000\n",
    "alpha =0.05"
   ]
  },
  {
   "cell_type": "code",
   "execution_count": 12,
   "id": "057ad5ef-9c3b-4fe4-85b1-6d190f746c69",
   "metadata": {},
   "outputs": [
    {
     "data": {
      "text/plain": [
       "6.874516652539955"
      ]
     },
     "execution_count": 12,
     "metadata": {},
     "output_type": "execute_result"
    }
   ],
   "source": [
    "z = (sample_mean-population_mean) / (population_std/math.sqrt(sample_size))\n",
    "z"
   ]
  },
  {
   "cell_type": "markdown",
   "id": "ab148b61-3fb1-488c-9674-39aacc6a7d6e",
   "metadata": {},
   "source": [
    "#### Determine the critical value: For a one-tailed test at 𝛼 = 0.05 the critical Z-value is -1.645."
   ]
  },
  {
   "cell_type": "markdown",
   "id": "653bec42-65b9-4b73-b5b5-7389652032c0",
   "metadata": {},
   "source": [
    "#### comparison:We compare the calculated Z-value (6.88) to the critical value (-1.645).\n",
    "#### Since 6.88 is greater than -1.645, it lies in the region where we do not reject the null hypothesis."
   ]
  },
  {
   "cell_type": "code",
   "execution_count": 17,
   "id": "67b26368-d85f-4fc3-9ae6-011fe002bafc",
   "metadata": {},
   "outputs": [],
   "source": [
    "from scipy.stats import norm"
   ]
  },
  {
   "cell_type": "code",
   "execution_count": 19,
   "id": "7c55c63c-dea0-443c-80c8-9cb498abbc29",
   "metadata": {},
   "outputs": [
    {
     "name": "stdout",
     "output_type": "stream",
     "text": [
      "-1.6448536269514729\n"
     ]
    }
   ],
   "source": [
    "alpha = 0.05\n",
    "z_critical = norm.ppf(alpha)\n",
    "print(z_critical)"
   ]
  },
  {
   "cell_type": "code",
   "execution_count": 21,
   "id": "8492b2f9-4d5b-49e2-a661-399df6a83e45",
   "metadata": {},
   "outputs": [
    {
     "name": "stdout",
     "output_type": "stream",
     "text": [
      "Fail to reject the null hypothesis\n"
     ]
    }
   ],
   "source": [
    "if z<z_critical:\n",
    "    print(\" Reject the null hypothesis\")\n",
    "if z > z_critical:\n",
    "    print(\"Fail to reject the null hypothesis\")"
   ]
  },
  {
   "cell_type": "markdown",
   "id": "440b15fa-ebe6-417b-a34b-0b8a0c55eb67",
   "metadata": {},
   "source": [
    "## Conclusion:\n",
    "#### There is not enough evidence to reject the psychologist's claim that the average time working mothers spend talking to their children is at least 11 minutes per day."
   ]
  },
  {
   "cell_type": "markdown",
   "id": "f661df40-6267-44f1-841a-68fb76910125",
   "metadata": {},
   "source": [
    "### Q2. A coffee shop claims that their average wait time for customers is less than 5 minutes.\n",
    "### To test this claim, a sample of 40 customers is taken, and their wait times are recorded.\n",
    "### The sample mean wait time is found to be 4.6 minutes with a standard deviation of 0.8 minutes. \n",
    "### Perform a hypothesis test at a significance level of 0.05 and determine whether there is enough evidence to support the coffee shop's claim.\n"
   ]
  },
  {
   "cell_type": "markdown",
   "id": "77afd535-9599-484d-849d-338e73a03746",
   "metadata": {},
   "source": [
    "### Claim: The average wait time for customers is less than 5 minutes."
   ]
  },
  {
   "cell_type": "code",
   "execution_count": 26,
   "id": "a945c5d7-147c-4b65-853e-6e9ab61dc9c0",
   "metadata": {},
   "outputs": [],
   "source": [
    "sample_size = 40\n",
    "sample_mean = 4.6\n",
    "population_mean = 5\n",
    "sample_std = 0.8\n",
    "alpha = 0.05"
   ]
  },
  {
   "cell_type": "markdown",
   "id": "3590b5e5-064a-4cd4-98b7-19515a290cdd",
   "metadata": {},
   "source": [
    "### The test statistic for a t-test is given by:𝑡=(𝑥ˉ−𝜇)/(𝑠/sqrrt(n))\n",
    "#### where x- = sample mean,𝜇 =population_mean,s = sample_std ,n = sample_size\n",
    "​"
   ]
  },
  {
   "cell_type": "code",
   "execution_count": 31,
   "id": "390eeaee-10c9-44f3-9051-f974eb8b3cad",
   "metadata": {},
   "outputs": [
    {
     "data": {
      "text/plain": [
       "-3.162277660168382"
      ]
     },
     "execution_count": 31,
     "metadata": {},
     "output_type": "execute_result"
    }
   ],
   "source": [
    "t = (sample_mean-population_mean) / (sample_std/math.sqrt(sample_size))\n",
    "t"
   ]
  },
  {
   "cell_type": "markdown",
   "id": "98823a76-962d-4ebe-939e-3881798e9bc7",
   "metadata": {},
   "source": [
    "####  Determine the critical value:For a one-tailed test with 𝛼=0.05 and degrees of freedom (𝑑f=𝑛−1=39),the critical t-value is approximately -1.685."
   ]
  },
  {
   "cell_type": "code",
   "execution_count": 34,
   "id": "2a10ff56-356d-4bdb-bfa8-878e06911ff3",
   "metadata": {},
   "outputs": [
    {
     "data": {
      "text/plain": [
       "39"
      ]
     },
     "execution_count": 34,
     "metadata": {},
     "output_type": "execute_result"
    }
   ],
   "source": [
    "df = sample_size-1\n",
    "df"
   ]
  },
  {
   "cell_type": "markdown",
   "id": "060bb98c-9983-45d2-91a1-1649f0fb4a08",
   "metadata": {},
   "source": [
    "#### Compare the test statistic to the critical value:Since 𝑡=−3.17<−1.685, we reject the null hypothesis."
   ]
  },
  {
   "cell_type": "code",
   "execution_count": 37,
   "id": "c802b70e-eafd-4ebe-a22f-b99daa842fa5",
   "metadata": {},
   "outputs": [
    {
     "name": "stdout",
     "output_type": "stream",
     "text": [
      "-1.6448536269514729\n"
     ]
    }
   ],
   "source": [
    "alpha = 0.05\n",
    "t_critical = norm.ppf(alpha)\n",
    "print(t_critical)"
   ]
  },
  {
   "cell_type": "code",
   "execution_count": 39,
   "id": "c234c10d-aab8-43b1-b4f4-fb6ac07cec40",
   "metadata": {},
   "outputs": [
    {
     "name": "stdout",
     "output_type": "stream",
     "text": [
      " Reject the null hypothesis\n"
     ]
    }
   ],
   "source": [
    "if t < t_critical:\n",
    "    print(\" Reject the null hypothesis\")\n",
    "if t > t_critical:\n",
    "    print(\"Fail to reject the null hypothesis\")"
   ]
  },
  {
   "cell_type": "markdown",
   "id": "5ba32ea8-d443-4cc1-b6a9-c24172a3d1ec",
   "metadata": {},
   "source": [
    "### Conclusion:\n",
    "#### There is enough evidence to support the coffee shop's claim that the average wait time for customers is less than 5 minutes."
   ]
  },
  {
   "cell_type": "code",
   "execution_count": null,
   "id": "d2e09093-8eac-4e70-a863-77f3877f6c40",
   "metadata": {},
   "outputs": [],
   "source": []
  }
 ],
 "metadata": {
  "kernelspec": {
   "display_name": "Python 3 (ipykernel)",
   "language": "python",
   "name": "python3"
  },
  "language_info": {
   "codemirror_mode": {
    "name": "ipython",
    "version": 3
   },
   "file_extension": ".py",
   "mimetype": "text/x-python",
   "name": "python",
   "nbconvert_exporter": "python",
   "pygments_lexer": "ipython3",
   "version": "3.11.7"
  }
 },
 "nbformat": 4,
 "nbformat_minor": 5
}
